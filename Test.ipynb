{
 "cells": [
  {
   "cell_type": "code",
   "execution_count": null,
   "id": "6dd1ee01",
   "metadata": {},
   "outputs": [],
   "source": [
    "import argparse\n",
    "import os\n",
    "\n",
    "import numpy as np\n",
    "import json\n",
    "import torch\n",
    "import torchvision\n",
    "from PIL import Image\n",
    "import litellm\n",
    "import glob\n",
    "\n",
    "# seg colors\n",
    "\n",
    "seg_colors = np.zeros((64,3))\n",
    "for c in range(64):\n",
    "    seg_colors[c,0] = 255 - ((c+1) % 4)*63\n",
    "    seg_colors[c,1] = 255 - (((c+1) // 4) % 4)*63\n",
    "    seg_colors[c,2] = 255 - (((c+1) // 16) % 4)*63"
   ]
  },
  {
   "cell_type": "code",
   "execution_count": null,
   "id": "8d4199df",
   "metadata": {},
   "outputs": [],
   "source": [
    "np.load('mask_num.npy')"
   ]
  },
  {
   "cell_type": "markdown",
   "id": "26df9653",
   "metadata": {},
   "source": [
    "Test SAM"
   ]
  },
  {
   "cell_type": "code",
   "execution_count": null,
   "id": "950ece8b",
   "metadata": {},
   "outputs": [],
   "source": [
    "from segment_anything import (\n",
    "    build_sam,\n",
    "    build_sam_hq,\n",
    "    SamPredictor,\n",
    "    SamAutomaticMaskGenerator,\n",
    "    sam_model_registry\n",
    ") \n",
    "import glob\n",
    "import cv2\n",
    "\n",
    "predictor = SamAutomaticMaskGenerator(build_sam(checkpoint='sam_vit_h_4b8939.pth').to('cuda'))\n",
    "image_path = glob.glob('image_dataset' + '/*.jpg')[0]\n",
    "image = cv2.imread(image_path)"
   ]
  },
  {
   "cell_type": "markdown",
   "id": "1b1dc7f5",
   "metadata": {},
   "source": [
    "Test RAM-SAM"
   ]
  },
  {
   "cell_type": "code",
   "execution_count": null,
   "id": "9415bc3a",
   "metadata": {},
   "outputs": [],
   "source": [
    "from segment_anything import (\n",
    "    build_sam,\n",
    "    build_sam_hq,\n",
    "    SamPredictor,\n",
    "    SamAutomaticMaskGenerator,\n",
    "    sam_model_registry\n",
    ") \n",
    "import glob\n",
    "import cv2\n",
    "predictor = SamAutomaticMaskGenerator(build_sam(checkpoint='sam_vit_h_4b8939.pth').to('cuda'))\n",
    "image_path = glob.glob('image_dataset' + '/*.jpg')[0]\n",
    "image = cv2.imread(image_path)"
   ]
  }
 ],
 "metadata": {
  "kernelspec": {
   "display_name": "sam",
   "language": "python",
   "name": "python3"
  },
  "language_info": {
   "codemirror_mode": {
    "name": "ipython",
    "version": 3
   },
   "file_extension": ".py",
   "mimetype": "text/x-python",
   "name": "python",
   "nbconvert_exporter": "python",
   "pygments_lexer": "ipython3",
   "version": "3.9.18"
  }
 },
 "nbformat": 4,
 "nbformat_minor": 5
}
